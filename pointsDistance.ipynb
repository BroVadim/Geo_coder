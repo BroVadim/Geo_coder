{
 "cells": [
  {
   "cell_type": "code",
   "execution_count": null,
   "metadata": {},
   "outputs": [],
   "source": [
    "import requests\n",
    "import json\n",
    "import time\n",
    "import pandas as pd"
   ]
  },
  {
   "cell_type": "code",
   "execution_count": null,
   "metadata": {},
   "outputs": [],
   "source": [
    "class Geo:\n",
    "    def __init__(self, token):\n",
    "        self.token = token\n",
    "\n",
    "    def prepare_coordinates(self, *coordinates):\n",
    "        return [str(coordinate).replace(',','.') for coordinate in coordinates]\n",
    "\n",
    "    def searchDistance(self, lat1,long1, lat2, long2):\n",
    "        long_lat1 = self.prepare_coordinates(long1,lat1)\n",
    "        long_lat2 = self.prepare_coordinates(long2, lat2)\n",
    "        url = \"https://api.mapbox.com/directions/v5/mapbox/driving-traffic/{},{};{},{}?access_token={}\".format(long_lat1[0], long_lat1[1], long_lat2[0], long_lat2[1], self.token)\n",
    "        distance = 0\n",
    "        try:\n",
    "            t = requests.get(url, timeout=10)\n",
    "            rec = json.loads(t.text)\n",
    "            print(rec)\n",
    "            distance = float(rec['routes'][0]['distance'])/1000\n",
    "        except Exception as error:\n",
    "            print(str(error))\n",
    "        finally:\n",
    "            time.sleep(2.5)\n",
    "        return distance\n",
    "\n",
    "if __name__==\"__main__\":\n",
    "    token = 'YOUR_MAPBOX_TOKEN'\n",
    "    coordinates_frame = pd.read_excel('coord.xlsx')\n",
    "    geo = Geo(token)\n",
    "    for index,row in coordinates_frame.iterrows():\n",
    "        print(geo.searchDistance(row[1],row[0],row[3],row[2]))"
   ]
  }
 ],
 "metadata": {
  "kernelspec": {
   "name": "python374jvsc74a57bd0709df3ce15ab67dd2d8269f8dda0bdc6697ee9dab9ed0fbd8ba56f292f917ff1",
   "display_name": "Python 3.7.4 64-bit (conda)"
  },
  "language_info": {
   "codemirror_mode": {
    "name": "ipython",
    "version": 3
   },
   "file_extension": ".py",
   "mimetype": "text/x-python",
   "name": "python",
   "nbconvert_exporter": "python",
   "pygments_lexer": "ipython3",
   "version": "3.7.4-final"
  }
 },
 "nbformat": 4,
 "nbformat_minor": 2
}