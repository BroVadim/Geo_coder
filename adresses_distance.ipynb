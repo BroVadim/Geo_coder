{
 "metadata": {
  "language_info": {
   "codemirror_mode": {
    "name": "ipython",
    "version": 3
   },
   "file_extension": ".py",
   "mimetype": "text/x-python",
   "name": "python",
   "nbconvert_exporter": "python",
   "pygments_lexer": "ipython3",
   "version": "3.7.4"
  },
  "orig_nbformat": 2,
  "kernelspec": {
   "name": "python374jvsc74a57bd0709df3ce15ab67dd2d8269f8dda0bdc6697ee9dab9ed0fbd8ba56f292f917ff1",
   "display_name": "Python 3.7.4 64-bit (conda)"
  }
 },
 "nbformat": 4,
 "nbformat_minor": 2,
 "cells": [
  {
   "cell_type": "code",
   "execution_count": 14,
   "metadata": {},
   "outputs": [],
   "source": [
    "import pandas as pd\n",
    "import re\n",
    "import json\n",
    "import time\n",
    "import requests"
   ]
  },
  {
   "cell_type": "code",
   "execution_count": 5,
   "metadata": {},
   "outputs": [],
   "source": [
    "df = pd.read_excel('addresses.xlsx')"
   ]
  },
  {
   "cell_type": "code",
   "execution_count": 6,
   "metadata": {},
   "outputs": [
    {
     "output_type": "execute_result",
     "data": {
      "text/plain": [
       "                           Город отправки                  Город доставки  \\\n",
       "0  г. Иркутск, ул. Розы Люксембург, 198 В  г Владивосток, ул Фадеева 47 Д   \n",
       "1  г. Иркутск, ул. Розы Люксембург, 198 В    г Магадан, ул Пушкина, 11/11   \n",
       "\n",
       "  Срок доставки  0-30 кг  +1 кг   100 кг +1 кг.1   200 кг +1 кг.2    500 кг  \\\n",
       "0         10-12  1608,00  24,93  3352,92   20,14  5366,64   18,13  10806,60   \n",
       "1         31-33  2046,00  39,62  4819,32   30,71  7890,24   27,12  16026,60   \n",
       "\n",
       "  +1 кг.3  \n",
       "0   16,32  \n",
       "1   24,41  "
      ],
      "text/html": "<div>\n<style scoped>\n    .dataframe tbody tr th:only-of-type {\n        vertical-align: middle;\n    }\n\n    .dataframe tbody tr th {\n        vertical-align: top;\n    }\n\n    .dataframe thead th {\n        text-align: right;\n    }\n</style>\n<table border=\"1\" class=\"dataframe\">\n  <thead>\n    <tr style=\"text-align: right;\">\n      <th></th>\n      <th>Город отправки</th>\n      <th>Город доставки</th>\n      <th>Срок доставки</th>\n      <th>0-30 кг</th>\n      <th>+1 кг</th>\n      <th>100 кг</th>\n      <th>+1 кг.1</th>\n      <th>200 кг</th>\n      <th>+1 кг.2</th>\n      <th>500 кг</th>\n      <th>+1 кг.3</th>\n    </tr>\n  </thead>\n  <tbody>\n    <tr>\n      <th>0</th>\n      <td>г. Иркутск, ул. Розы Люксембург, 198 В</td>\n      <td>г Владивосток, ул Фадеева 47 Д</td>\n      <td>10-12</td>\n      <td>1608,00</td>\n      <td>24,93</td>\n      <td>3352,92</td>\n      <td>20,14</td>\n      <td>5366,64</td>\n      <td>18,13</td>\n      <td>10806,60</td>\n      <td>16,32</td>\n    </tr>\n    <tr>\n      <th>1</th>\n      <td>г. Иркутск, ул. Розы Люксембург, 198 В</td>\n      <td>г Магадан, ул Пушкина, 11/11</td>\n      <td>31-33</td>\n      <td>2046,00</td>\n      <td>39,62</td>\n      <td>4819,32</td>\n      <td>30,71</td>\n      <td>7890,24</td>\n      <td>27,12</td>\n      <td>16026,60</td>\n      <td>24,41</td>\n    </tr>\n  </tbody>\n</table>\n</div>"
     },
     "metadata": {},
     "execution_count": 6
    }
   ],
   "source": [
    "df.head(2)"
   ]
  },
  {
   "cell_type": "code",
   "execution_count": 7,
   "metadata": {},
   "outputs": [],
   "source": [
    "fca = df['Город отправки'].unique().tolist() #first column addresses\n",
    "sca = df['Город доставки'].unique().tolist() #second column addresses"
   ]
  },
  {
   "cell_type": "code",
   "execution_count": 8,
   "metadata": {},
   "outputs": [],
   "source": [
    "all_addresses = fca + sca"
   ]
  },
  {
   "cell_type": "code",
   "execution_count": 9,
   "metadata": {},
   "outputs": [],
   "source": [
    "yandex_token = 'YOUR YANDEX TOKEN'"
   ]
  },
  {
   "cell_type": "code",
   "execution_count": 10,
   "metadata": {},
   "outputs": [],
   "source": [
    "mapbox_token='YOUR MAPBOX TOKEN'"
   ]
  },
  {
   "cell_type": "code",
   "execution_count": 11,
   "metadata": {},
   "outputs": [],
   "source": [
    "def searchCoordinates(address):\n",
    "    lat,lon = '0','0'\n",
    "    preprocLine = re.sub(',\\s*','+', address)\n",
    "    request = 'https://geocode-maps.yandex.ru/1.x/?apikey='+yandex_token+'&format=json&geocode='+preprocLine+'&lang=ru_RU'\n",
    "    r = requests.get(request)\n",
    "    rec = json.loads(r.text)\n",
    "    coordinates = rec['response']['GeoObjectCollection']['featureMember'][0]['GeoObject']['Point']['pos'].split(' ')\n",
    "    lat = coordinates[1]\n",
    "    lon = coordinates[0]\n",
    "    return [lat,lon]"
   ]
  },
  {
   "cell_type": "code",
   "execution_count": 12,
   "metadata": {},
   "outputs": [],
   "source": [
    "addresses_coordinates = {}"
   ]
  },
  {
   "cell_type": "code",
   "execution_count": 15,
   "metadata": {},
   "outputs": [],
   "source": [
    "for address in all_addresses:\n",
    "    addresses_coordinates[address] = searchCoordinates(address)"
   ]
  },
  {
   "cell_type": "code",
   "execution_count": 16,
   "metadata": {},
   "outputs": [
    {
     "output_type": "execute_result",
     "data": {
      "text/plain": [
       "{'г. Иркутск, ул. Розы Люксембург, 198 В': ['52.362802', '104.151626'],\n",
       " 'г. Чита, ул. Читинская 23А': ['52.051578', '113.48682'],\n",
       " 'г. Нижний Новгород, проезд Восточный, 11': ['56.251552', '43.91682'],\n",
       " 'г. Пермь, ул. Уральская 81 а': ['58.027353', '56.296485'],\n",
       " 'г Владивосток, ул Фадеева 47 Д': ['43.102892', '131.969172'],\n",
       " 'г Магадан, ул Пушкина, 11/11': ['59.568392', '150.800762'],\n",
       " 'г. Самара, Заводское шоссе, 20': ['53.201121', '50.259698'],\n",
       " 'г. Волгоград, ул. Электролесовская, д.55': ['48.647268', '44.440951'],\n",
       " 'г. Санкт-Петербург, Дальневосточный пр. 73 А.': ['59.876386', '30.482506'],\n",
       " 'Калининградская обл., п. Дорожное, Датский проезд, д.3': ['54.642212',\n",
       "  '20.520414'],\n",
       " 'г. Новосибирск ул Н.Данченко 120/2': ['54.974313', '82.905859'],\n",
       " 'г. Омск, ул. 22 Апреля, 19/1': ['55.040972', '73.277958'],\n",
       " 'г.Екатеринбург, Эскадронная, 43': ['56.765759', '60.587818'],\n",
       " 'г. Тюмень, ул. 50 лет Октября, 217а, склад 3/1': ['57.153653', '65.56673'],\n",
       " 'г. Воронеж, ул. 9 января 302а': ['51.683854', '39.120373'],\n",
       " 'г. Ростов-на-Дону, ул. Нансена 160/168': ['47.243255', '39.729583'],\n",
       " 'МО, Люберецкий р-он, Томилино строение К8.2.1': ['55.649474', '37.956659'],\n",
       " 'г. Москва, Вавилова, 23': ['55.697904', '37.573007'],\n",
       " 'г. Екатеринбург, Эскадронная, 43': ['56.765759', '60.587818']}"
      ]
     },
     "metadata": {},
     "execution_count": 16
    }
   ],
   "source": [
    "addresses_coordinates"
   ]
  },
  {
   "cell_type": "code",
   "execution_count": 17,
   "metadata": {},
   "outputs": [],
   "source": [
    "def search_distance(address1, address2):\n",
    "    coordinates1 = list(reversed(addresses_coordinates[address1]))\n",
    "    coordinates2 = list(reversed(addresses_coordinates[address2]))\n",
    "    long_lat1 = ','.join(coordinates1)\n",
    "    long_lat2 = ','.join(coordinates2)\n",
    "    url = \"https://api.mapbox.com/directions/v5/mapbox/driving-traffic/{};{}?access_token={}\".format(long_lat1, long_lat2, mapbox_token)\n",
    "    distance = 0\n",
    "    try:\n",
    "        t = requests.get(url, timeout=10)\n",
    "        rec = json.loads(t.text)\n",
    "        distance = float(rec['routes'][0]['distance'])/1000\n",
    "    except Exception as error:\n",
    "        print(str(error))\n",
    "        print(rec)\n",
    "    finally:\n",
    "        return distance"
   ]
  },
  {
   "cell_type": "code",
   "execution_count": 18,
   "metadata": {
    "tags": []
   },
   "outputs": [],
   "source": [
    "with open('res_file.csv','w', encoding='cp1251') as file:\n",
    "    file.write('Address1;Address2;Distance\\n')\n",
    "    for index,row in df.iterrows():\n",
    "        distance = search_distance(row['Город отправки'],row['Город доставки']) \n",
    "        result_string = \"{0};{1};{2}\\n\".format(row['Город отправки'],\n",
    "                                                   row['Город доставки'],\n",
    "                                                   distance)\n",
    "        file.write(result_string)"
   ]
  },
  {
   "cell_type": "code",
   "execution_count": null,
   "metadata": {},
   "outputs": [],
   "source": []
  }
 ]
}